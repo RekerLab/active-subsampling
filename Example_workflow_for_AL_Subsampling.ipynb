{
  "cells": [
    {
      "cell_type": "markdown",
      "source": [
        "# Active Learning Subsampling Example Workflow\n",
        "This workflow is setup to install all necessary libraries, copy code from GitHub, and run active learning subsampling on the BBBP dataset as an example. You should be able to run this workflow out of the box in a fresh conda environment or on Google Colab."
      ],
      "metadata": {
        "id": "keB-WbuaH2CI"
      }
    },
    {
      "cell_type": "markdown",
      "source": [
        "### Install necessary libraries and load code from GitHub"
      ],
      "metadata": {
        "id": "xFh2Z8fp6aKt"
      }
    },
    {
      "cell_type": "code",
      "execution_count": null,
      "metadata": {
        "id": "RRUzSvOUGtHQ"
      },
      "outputs": [],
      "source": [
        "###################\n",
        "# Install necessary Python libraries\n",
        "%%capture\n",
        "!pip install deepchem==2.5.0\n",
        "!pip install rdkit-pypi\n",
        "!pip install matplotlib==3.1.3"
      ]
    },
    {
      "cell_type": "code",
      "execution_count": null,
      "metadata": {
        "id": "jliJc0xzF4d6"
      },
      "outputs": [],
      "source": [
        "###################\n",
        "# Load AL Subsampling Code from GitHub\n",
        "%%capture\n",
        "!wget https://raw.githubusercontent.com/RekerLab/active-subsampling/main/code.py\n",
        "!mv code.py ALSubsampling.py"
      ]
    },
    {
      "cell_type": "markdown",
      "source": [
        "### Load code, dataset, and initialize model and metric"
      ],
      "metadata": {
        "id": "vQs8h6GN6jiu"
      }
    },
    {
      "cell_type": "code",
      "execution_count": null,
      "metadata": {
        "id": "tRI2680AGMYo"
      },
      "outputs": [],
      "source": [
        "import ALSubsampling"
      ]
    },
    {
      "cell_type": "code",
      "execution_count": null,
      "metadata": {
        "id": "CroeG5KRGOo-"
      },
      "outputs": [],
      "source": [
        "#load data\n",
        "%%capture\n",
        "import deepchem as dc\n",
        "tasks, data, transformers = dc.molnet.load_bbbp(splitter=None)\n",
        "bbbp = data[0]"
      ]
    },
    {
      "cell_type": "code",
      "execution_count": null,
      "metadata": {
        "id": "oJoIr_4RpD2U"
      },
      "outputs": [],
      "source": [
        "# initialize model and performance metric\n",
        "from sklearn.metrics import matthews_corrcoef as mcc\n",
        "from sklearn.ensemble import RandomForestClassifier as RF\n",
        "model = RF()\n",
        "metric = mcc"
      ]
    },
    {
      "cell_type": "markdown",
      "source": [
        "### Run active learning subsampling workflow\n",
        "\n",
        "In this example, we will only run a single replicate for time efficiency reasons. We will incorporate 30% error in the training data through label flipping to highlight the robustness of active learning to erroneous data. \n"
      ],
      "metadata": {
        "id": "2cUsO5Pf6qIi"
      }
    },
    {
      "cell_type": "code",
      "execution_count": null,
      "metadata": {
        "id": "-O7BBk2mpSGk"
      },
      "outputs": [],
      "source": [
        "# run active learning subsampling with error\n",
        "%%capture\n",
        "result = ALSubsampling.al_subsampling_with_error(model, bbbp, metric, 0.3, 1)"
      ]
    },
    {
      "cell_type": "markdown",
      "source": [
        "### Data analysis\n",
        "After the active learning run is complete, we can feed the returned data to various functions to extract the \"maxIter\" iteration and calculate \"delta Performance\".\n",
        " "
      ],
      "metadata": {
        "id": "NFcbYuEa69ue"
      }
    },
    {
      "cell_type": "code",
      "source": [
        "#extract MaxIter iteration \n",
        "maxiter = ALSubsampling.calc_maxIter(result)\n",
        "print(\"Maximum performance is achieved at iteration \" +\n",
        "  str(maxiter))\n",
        "print(\"This is using only \" +\n",
        "  str(round(float(maxiter) / len(result[0][0]) * 100)) +\n",
        "  \"% of the training data.\")\n",
        "\n",
        "# and delta Performance\n",
        "dPerf = round(ALSubsampling.calc_deltaPerformance(result),2) \n",
        "print(\"The difference in MCC performance between a model trained\" +\n",
        "  \"on the active learning subset and the complete dataset is: \" + \n",
        "  str(dPerf))"
      ],
      "metadata": {
        "colab": {
          "base_uri": "https://localhost:8080/"
        },
        "id": "RFZqIYZVqAIR",
        "outputId": "8f4beb01-c29f-47b4-e6cb-9ddba6eb5f5f"
      },
      "execution_count": null,
      "outputs": [
        {
          "output_type": "stream",
          "name": "stdout",
          "text": [
            "Maximum performance is achieved at iteration 357\n",
            "This is using only 35% of the training data.\n",
            "The difference in MCC performance between a model trainedon the active learning subset and the complete dataset is: 0.16\n"
          ]
        }
      ]
    },
    {
      "cell_type": "markdown",
      "source": [
        "We can subsequently plot the model performance on the test split and visualize the "
      ],
      "metadata": {
        "id": "At3CZivu7Sua"
      }
    },
    {
      "cell_type": "code",
      "execution_count": null,
      "metadata": {
        "colab": {
          "base_uri": "https://localhost:8080/"
        },
        "id": "Y-bsOzmApl6k",
        "outputId": "12070c88-bd14-4cdc-8c6f-9e8080af60c0"
      },
      "outputs": [
        {
          "output_type": "display_data",
          "data": {
            "text/plain": [
              "<Figure size 432x288 with 1 Axes>"
            ],
            "image/png": "[encoded data removed]"
          },
          "metadata": {
            "needs_background": "light"
          }
        }
      ],
      "source": [
        "import matplotlib.pylab as pl\n",
        "import numpy as np\n",
        "pl.plot(np.mean(result[0],axis=0))\n",
        "pl.plot([maxiter,maxiter],[0.0,0.6],'--')\n",
        "pl.text(maxiter+10,0.0,\"maxIter\")\n",
        "pl.xlabel(\"Active Learning Iteration\")\n",
        "pl.ylabel(\"Test set performance [MCC]\")\n",
        "pl.show()"
      ]
    },
    {
      "cell_type": "markdown",
      "source": [
        "### Extraction of data sample\n",
        "The data subset samkpled by active learning to achieve maximum performance can then be extracted using the ''subsample_data'' function. This function returns a tuple of SMILES and labels that can be used as training data for a machine learning algorithm. "
      ],
      "metadata": {
        "id": "8aHKm-mw7WV1"
      }
    },
    {
      "cell_type": "code",
      "source": [
        "# extract AL subsample data\n",
        "subsample = ALSubsampling.subsample_data(result)\n",
        "print(subsample)"
      ],
      "metadata": {
        "colab": {
          "base_uri": "https://localhost:8080/"
        },
        "id": "ameAQlR_w5Is",
        "outputId": "000b13d7-e151-429a-a515-3f0d168149a3"
      },
      "execution_count": null,
      "outputs": [
        {
          "output_type": "stream",
          "name": "stdout",
          "text": [
            "(array(['CCOCC', 'C2=C(C1(C(N(C)C(N1)=O)=O)CC)C=CC=C2',\n",
            "       'CCC(O)(COC(N)=O)c1ccccc1', 'COc1cc(CCN)cc(OC)c1OC',\n",
            "       'NC(=O)OCCCc1ccccc1',\n",
            "       'C[S](=O)(=O)c1ccc(cc1)[C@@H](O)[C@@H](CO)NC(=O)C(Cl)Cl',\n",
            "       'CCOC(=O)c1ccc(N)cc1', 'Cc1cccc(C)c1', 'CCCC(C)C',\n",
            "       'NCCc1ccc(O)c(O)c1', 'C(NC(C(C)(C)C)=O)CCC(O)=O',\n",
            "       'CNC[C@H](O)c1ccc(O)c(O)c1', 'C[C@@](Cc1ccc(O)c(O)c1)(NN)C(O)=O',\n",
            "       'C1=C(C(=CC(=C1)Cl)Cl)OCCCN(CC#C)C', 'BrCC(O)(Br)Br', 'CC(C)CO',\n",
            "       'n1c(scc1)CCN', 'C(C(NN)C)CCCCC',\n",
            "       'C(C1(C(NC(=S)NC1=O)=O)C(CCC)C)CSC',\n",
            "       'CC[C@H]1OC(=O)[C@H](C)[C@@H](O[C@H]2C[C@@](C)(OC)[C@@H](O)[C@H](C)O2)[C@H](C)[C@@H](O[C@@H]3O[C@H](C)C[C@@H]([C@H]3O)N(C)C)[C@](C)(O)C[C@](C)(F)C(=O)[C@H](C)[C@@H](O)[C@]1(C)O',\n",
            "       '[C@@H]36C2=C(C1=CC(=CC=C1[NH]2)Cl)CCN3C[C@H]5C[C@@H](OC(C4=CC(=C(C(=C4)OC)OC)OC)=O)[C@@H]([C@H]([C@H]5C6)C(OC)=O)OC',\n",
            "       'ClC(CCC)O', 'CCCC(C)CC', 'NCC(O)c1ccc(O)c(O)c1',\n",
            "       'CCCC(C)C1(CC)C(=O)NC(=O)NC1=O', 'CC(C)(C)NCC(O)c1ccc(O)c(CO)c1',\n",
            "       '[C@]34([C@H]([C@H]2C(F)([C@@]1(C(=CC(=O)C=C1)[C@@H](F)C2)C)[C@@H](O)C3)C[C@H]5O[C@H](O[C@@]45C(O[C@@H](OC(OCC)=O)C)=O)CCC)C',\n",
            "       'C(C1(C(NC(=O)NC1=O)=O)CC=C)C(C)C',\n",
            "       'C(C1(C(CCC)CC)C(NC(=O)NC1=O)=O)C', 'CCC(C)C1(CC)C(=O)NC(=O)NC1=O',\n",
            "       'COC1CC(OC(C)C1O)O[C@H]2[C@H](C)[C@@H](OC3OC(C)CC(C3O)N(C)C)[C@@H](C)C[C@]4(CO4)C(=O)[C@H](C)[C@@H](O)[C@@H](C)[C@@H](C)OC(=O)[C@@H]2C',\n",
            "       'NCC(O)c1cccc(O)c1', 'CCNCC(O)c1cccc(O)c1',\n",
            "       '[C@@H]25CC1=CC=C(C4=C1[C@@]3([C@H]2CC[C@@H]([C@@H]3O4)OC)CCN5C)O',\n",
            "       '[C@@]125C3=C4C[C@H]([C@@H]1CCC([C@@]2(OC3=C(C=C4)O)C)=O)N(C)CC5',\n",
            "       '[C@@]125C3=C4C[C@H]([C@@]1(CCC([C@@H]2OC3=C(C=C4)O)=O)O)N(CC=C(C)C)CC5',\n",
            "       'O[C@H]1C=C[C@H]2[C@H]3Cc4ccc(O)c5O[C@@H]1[C@]2(CCN3CC=C)c45',\n",
            "       '[C@@]125C3=C4C[C@H]([C@@]1(CC[C@@H]([C@@H]2OC3=C(C=C4)O)O)O)N(C)CC5',\n",
            "       'C[C@]12CC[C@H]3[C@@H](CCc4cc(O)ccc34)[C@@H]1CC[C@@H]2O',\n",
            "       'C2=C1C(=NN=C(CC1=CC(=C2OC)OC)C)C3=CC=C(N)C=C3',\n",
            "       'COc1ccc2C[C@@H]3[C@@H]4CCC(=O)[C@@H]5Oc1c2[C@]45CCN3C',\n",
            "       '[C@]34([C@H]([C@H]2[C@@H]([C@@]1(C([C@@H](C(CC1)OC(C)=O)Br)[C@@H](C2)Br)C)CC3)CC[C@@H]4[C@@H](CCCC(C)C)C)C',\n",
            "       'C1=C(O)C=CC3=C1C24C(C(NCC2)C3)CCCC4', 'C1=C(C=CC=C1O)NC(C)=O',\n",
            "       'COc1ccc2[C@H]3CC[C@@]4(C)[C@@H](CC[C@@]4(O)C#C)[C@@H]3CCc2c1',\n",
            "       'CC1C2Cc3ccc(O)cc3C1(C)CCN2CC4CC4',\n",
            "       'COc1ccc2C[C@H]3[C@H]4CCCC[C@@]4(CCN3C)c2c1',\n",
            "       'CNCC(O)c1cccc(OC(=O)C(C)(C)C)c1',\n",
            "       'C[C@]12CC[C@H]3[C@@H](CCc4cc(O)ccc34)[C@@H]1CC[C@@]2(O)C#C',\n",
            "       'C[C@H](N)[C@H](O)c1cccc(O)c1', 'CNC(C)C(O)c1ccc(O)cc1',\n",
            "       'O.O.O.CC1(C)S[C@@H]2[C@H](NC(=O)[C@H](N)c3ccc(O)cc3)C(=O)N2[C@H]1C(O)=O',\n",
            "       'COC(C(=O)N[C@H]1[C@H]2SC(C)(C)[C@@H](N2C1=O)C(O)=O)c3ccc(Cl)c(Cl)c3',\n",
            "       'Cc1onc(c2ccccc2Cl)c1C(=O)N[C@H]3[C@H]4SC(C)(C)[C@@H](N4C3=O)C(O)=O',\n",
            "       '[C@H](C1=CC(=CC=C1)OC(N(CC)C)=O)(N(C)C)C',\n",
            "       'CC1=C(N2[C@H](SC1)[C@H](NC(=O)[C@H](N)c3ccc(O)c(Cl)c3)C2=O)C(O)=O',\n",
            "       'CCOC(OCC)C(=O)OCC(=O)C1(O)CC(OC2CC(N)C(O)C(C)O2)c3c(O)c4C(=O)c5c(OC)cccc5C(=O)c4c(O)c3C1',\n",
            "       'C1=CC(=CC=C1C(C2=CC=CC=C2)SCCN(C)C)SCCCC',\n",
            "       'C1=CC(=CC=C1C(C2(CCCCC2)O)CN(C)C)OC',\n",
            "       'C(C(C1(C(NC(=O)NC1=O)=O)C=C)C)CC',\n",
            "       'CC(C)(C)NCC(O)c1ccc(O)c(NC(N)=O)c1',\n",
            "       'C1=C(O)C=CC2=C1C(=C[NH]2)CC(C(O)=O)N',\n",
            "       'N[C@@H](C(=O)N[C@H]1[C@H]2SCC(=C(N2C1=O)C(O)=O)Cl)c3ccccc3',\n",
            "       'CN1CCC23C4CCC(O)C2Oc5c(O)ccc(CC14)c35',\n",
            "       'NCC[C@H](O)C(=O)N[C@@H]1C[C@H](N)[C@@H](O[C@H]2O[C@H](CN)[C@@H](O)[C@H](O)[C@H]2O)[C@H](O)[C@H]1O[C@H]3O[C@H](CO)[C@@H](O)[C@H](N)[C@H]3O',\n",
            "       'CN[C@@H](C)[C@H](O)c1ccccc1',\n",
            "       'C2=C(C(OC1=CC=C(C=C1)C(F)(F)F)CCNC)C=CC=C2',\n",
            "       'CCCCCC1CNC(C1)C(=O)NC(C(C)Cl)C2OC(SC)C(O)C(O)C2O',\n",
            "       'C[C@H]1C[C@H]2[C@@H]3CCC4=CC(=O)C=C[C@]4(C)[C@@]3(F)[C@@H](O)C[C@]2(C)[C@@]1(O)C(=O)CO',\n",
            "       'C1=CC=CC=C1C(C(NC(N)=O)=O)CC',\n",
            "       '[C@]12(F)[C@H](CC4([C@H](C1C[C@@H](C3=CC(=O)C=CC23C)F)C[C@H]([C@]4(O)C(=O)COC(=O)C(C)(C)C)C)C)O',\n",
            "       '[C@H]23[C@@]([C@@]1(C(=CC(=O)C=C1)[C@H](C2)F)C)([C@H](C[C@]4([C@H]3C[C@@H](C)[C@@]4(C(CO)=O)O)C)O)F',\n",
            "       'C[C@]12CC[C@H]3[C@@H](CCC4=CC(=O)CC[C@H]34)[C@@H]1CC[C@@]2(O)C#C',\n",
            "       'CNC(NC(C(Cl)(Cl)Cl)O)=O',\n",
            "       '[C@@]4([C@@]3([C@H]([C@H]2[C@]([C@@]1(C(=CC(=O)C=C1)CC2)C)(Cl)[C@H](C3)O)C[C@@H]4C)C)(C(COC(CC)=O)=O)OC(CC)=O',\n",
            "       'C[C@]12CCC(=O)C=C1CC[C@H]3[C@@H]4CC[C@](O)(C(=O)CO)[C@@]4(C)C[C@H](O)[C@H]23',\n",
            "       'C1=CC=CC(=C1)C(C(CN(C)C)O)C2=CC=C(C=C2)Cl',\n",
            "       'C[C@H]1C[C@H]2[C@@H]3CC[C@](O)(C(=O)CO)[C@@]3(C)C[C@H](O)[C@@H]2[C@@]4(C)C=CC(=O)C=C14',\n",
            "       '[C@]23([C@H]([C@H]1[C@]([C@](C(C)=O)(O)CC1)(C)C[C@@H]2O)C[C@H](C)C4=CC(=O)C=C[C@]34C)F',\n",
            "       'N[C@@H](Cc1ccc(O)c(O)c1)C(O)=O',\n",
            "       'CN(C)[C@H]1[C@@H]2C[C@@H]3[C@H](O)c4c(Cl)ccc(O)c4C(=C3C(=O)[C@]2(O)C(=O)\\\\C(=C(N)/O)C1=O)O',\n",
            "       '[C@@H](C(NCC(N(C1=CC=C(C=C1C(C2=CC=CC=C2)=O)Cl)C)=O)=O)(CCCCN)N',\n",
            "       'C1=C(C(OC(N)=O)C#C)C=CC=C1',\n",
            "       'CC4CC3C2CC(F)(F)C1=CC(=O)C=CC1(C)C2(F)C(O)CC3(C)C4(O)C(=O)COC(C)=O',\n",
            "       'C[C@](N)(Cc1ccc(O)c(O)c1)C(O)=O',\n",
            "       'CN(C)[C@H]1[C@@H]2C[C@@H]3Cc4ccc(N)c(O)c4C(=C3C(=O)[C@]2(O)C(=O)\\\\C(=C(N)/O)C1=O)O',\n",
            "       'CN1C(=O)CN=C(c2ccccc2F)c3cc(ccc13)[N+]([O-])=O',\n",
            "       'CCNC(=NC#N)NCCSCc1c(cccn1)Br', 'NC(CO)C(=O)NNCc1ccc(O)c(O)c1O',\n",
            "       'CC(C)(C)NCC(O)c1ccc(O)c(CO)n1', 'C1=CC=CC=C1C(NNC(OCC)=O)C',\n",
            "       'O.O.CN(C)[C@H]1[C@@H]2[C@@H](O)[C@H]3C(=C(O)c4c(O)cccc4[C@@]3(C)O)C(=O)[C@]2(O)C(=O)\\\\C(=C(N)/O)C1=O',\n",
            "       '[Na+].[Na+].CC1(C)S[C@@H]2[C@H](NC(=O)[C@H](N[S]([O-])(=O)=O)c3ccccc3)C(=O)N2[C@H]1C([O-])=O',\n",
            "       'CCN(CC)C(=O)Nc1ccc(OCC(O)CNC(C)(C)C)c(c1)C(C)=O',\n",
            "       '[C@]34([C@H]([C@H]2C([C@@]1(C(=CC(C(=C1)Br)=O)[C@@H](C2)F)C)([C@H](C3)O)F)CCC4(C(=O)CO)O)C',\n",
            "       'CC(C)Cc1ccc(cc1)C(C)C(O)=O', 'CN=C(NCCSCc1csc(N=C(N)N)n1)NC#N',\n",
            "       'COCCc1ccc(OCC(O)CNC(C)C)cc1', 'C1=C(C(CNC(C)(C)C)O)C(=CC=C1)F',\n",
            "       'NC(Cc1ccc(cc1)N(CCCl)CCCl)C(O)=O', 'CCC(C)C(CC)C(=O)NC(N)=O',\n",
            "       'CC(C)NCC(O)c1ccc(N[S](C)(=O)=O)cc1',\n",
            "       'c1(ccc(cc1)SC)CC(N1[C@H](CN(CC1)C(=O)C)C[N@]1CC[C@H](C1)O)=O',\n",
            "       'C1=C(C(=C(C=C1C(NCC(N(CC)CC)=O)=O)OC)OC)OC',\n",
            "       'C1=C(C=CC=C1Br)\\\\C=C\\\\C(NCC)=O', 'C(C(C(NC(N)=O)=O)(CC)Br)C',\n",
            "       '[C@H]24[C@H]1[C@@]([C@@H](C(CO)=O)[C@@H](C1)C)(C[C@@H]([C@@H]2[C@@]3(C(=CC(=O)C=C3)[C@H](C4)F)C)O)C',\n",
            "       '[C@@H]23[C@H]([C@H]1[C@]([C@@H](C(C)=O)CC1)(C)C[C@@H]2O)C[C@H](C)C4=CC(=O)CC[C@]34C',\n",
            "       '[C@@]4(OC(=O)CCCC)(C3(C(C2C(C1(C(=CC(=O)C=C1)C(F)C2)C)C(O)C3)CC4)C)C(=O)CO',\n",
            "       'CCOC(=O)OC3(CCC4C2CCC1=CC(=O)C=CC1(C)C2C(O)CC34C)C(=O)OCCl',\n",
            "       'C1=C(NC(CC)=O)C=CC(=C1)O',\n",
            "       '[C@]34([C@H]([C@H]2[C@]([C@@]1(C(=CC(=O)C=C1)CC2)C)(F)[C@H](C3)O)C[C@H]([C@@]4(C(COC(C)=O)=O)O)OC(C)=O)C',\n",
            "       '[C@@]4([C@@]3([C@H]([C@H]2[C@]([C@@]1(C(=CC(=O)C=C1)CC2)C)(F)[C@H](C3)O)C[C@@H]4C)C)(C(COC(C)=O)=O)OC(C(C)C)=O',\n",
            "       'C[C@]12CC[C@H]3[C@@H](CCC4=CC(=O)CC[C@]34C)[C@@H]1CC[C@@H]2O',\n",
            "       '[C@H]34[C@H]2[C@@H]([C@@]1(C(=CC(=O)C=C1)CC2)C)[C@@H](O)C[C@@]3([C@](C(COC(COC(CCCCCCCCCCCCCCCCC)=O)=O)=O)(O)CC4)C',\n",
            "       '[C@H]23[C@@]([C@@]1(C(=CC(=O)C=C1)CC2)C)([C@H](C[C@]4([C@H]3C[C@@H](C)[C@@H]4C(CO)=O)C)O)F',\n",
            "       '[C@@]4([C@@]3([C@H]([C@H]2[C@]([C@@]1(C(=CC(=O)C=C1)CC2)C)(F)[C@H](C3)O)C[C@@H]4C)C)(C(COC(CC)=O)=O)OC(CC)=O',\n",
            "       'c1(ccc(c(c1)Cl)Cl)CC(=O)N1[C@H](C[N@@](C)CC1)CN1CCCC1',\n",
            "       'C1=C(C(=CC=C1[S](N)(=O)=O)OC)C(NCC2N(CCC2)C)=O',\n",
            "       '[C@H]23[C@@]([C@@]1(C(=CC(=O)C=C1)CC2)C)([C@H](C[C@]4([C@H]3CC[C@@]4(C(COC(C)=O)=O)O)C)O)F',\n",
            "       'Nc1ccc(C(O)=O)c(O)c1',\n",
            "       'NC[C@H]1O[C@H](O[C@@H]2[C@@H](N)C[C@@H](N)[C@H](O[C@H]3O[C@H](CO)[C@@H](O)[C@H](N)[C@H]3O)[C@H]2O)[C@H](N)C[C@@H]1O',\n",
            "       'C1=C(Br)C(=CC(=C1C(NCCN(CC)CC)=O)OC)N',\n",
            "       '[C@H]24[C@H]1[C@@]([C@](O)([C@@H](C1)C)C(=O)CO)(C[C@H](O)[C@@H]2[C@@]3(C(=CC(=O)C=C3)C[C@H]4Cl)C)C',\n",
            "       '[C@]12(OC(O[C@@H]1C[C@@H]3C2(CC(O)[C@H]4C3CCC5=CC(=O)C=CC45C)C)(C)C)C(=O)CO',\n",
            "       'CC(=O)c1ccc2Sc3ccccc3N(CCCN4CCN(CCO)CC4)c2c1',\n",
            "       'C1=C(C(=C(C=C1Br)C)O)C(N)=O',\n",
            "       'Nc1scc(n1)\\\\C(=N\\\\OCC(O)=O)C(=O)N[C@H]2[C@H]3SCC(=C(N3C2=O)C(O)=O)C=C',\n",
            "       'C(C1=CC=CC=C1O)(=O)N', 'C1=CC(=CC=C1C(NC(C)C)=O)CNNC',\n",
            "       'C1CCN(CC1)Cc1cccc(c1)OCCCNC(=O)C', 'CC(C(C(NC(N)=O)=O)Br)C',\n",
            "       '[C@H]23[C@@]([C@@]1(C(=CC(=O)CC1)CC2)C)([C@H](C[C@]4([C@H]3CC[C@@]4(C(COC(C)=O)=O)O)C)O)F',\n",
            "       '[C@@]4([C@@]3([C@H]([C@H]2[C@]([C@@]1(C(=CC(=O)C=C1)CC2)C)(Cl)[C@H](C3)O)C[C@H]4C)C)(C(COC(C)=O)=O)OC(CCC)=O',\n",
            "       '[C@H]34[C@H]2[C@@](F)([C@@]1(C(=CC(=O)C=C1)CC2)C)[C@@H](O)C[C@@]3([C@](O)([C@H](C4)C)C(=O)C)C',\n",
            "       '[C@@]4(OC(=O)CCCC)(C3(C(C2C(C1(C(=CC(=O)CC1)CC2)C)C(O)C3)CC4)C)C(=O)CO',\n",
            "       '[C@@H]34CC1=C[NH]C2=CC=CC(=C12)C3C[C@@H](CN4C)CC#N',\n",
            "       'CNC(C)C(=O)c1ccc(OC)cc1',\n",
            "       'CN(C)[C@H]1[C@@H]2C[C@@H]3Cc4c(ccc(O)c4C(=C3C(=O)[C@]2(O)C(=O)\\\\C(=C(N)/O)C1=O)O)[N+]([O-])=O',\n",
            "       'CN1CC[C@]23CCCC[C@H]2[C@H]1Cc4ccc(O)cc34',\n",
            "       'C1=C(C(N)=O)C=C(C(=C1OC)OCCCCCCCCCC)OC',\n",
            "       'C1=C(CC\\\\C(CN)=C/F)C=CC(=C1)F',\n",
            "       'C(C(C1(CCC2C4C(C(CC12C)O)(F)C3(C=CC(C=C3CC4)=O)C)O)=O)O',\n",
            "       'C[C@]12CC(=O)[C@H]3[C@@H](CCC4=CC(=O)C=C[C@]34C)[C@@H]1CC[C@]2(O)C(=O)CO',\n",
            "       'CC(C(O)=O)c1cccc(c1)C(=O)c2ccccc2',\n",
            "       'C1=C2C(=CC=C1)N(C(Cl)(CN=C2C3=CC=CC=C3Cl)CO)C',\n",
            "       'C[C@]12C[C@H](O)[C@@]3(F)[C@@H](CCC4=CC(=O)C=C[C@]34C)[C@@H]1C[C@@H](O)[C@]2(O)C(=O)CO',\n",
            "       '[C@@]4([C@@]3([C@H]([C@H]2[C@@H]([C@@]1(C(=CC(=O)CC1)[C@H](C2)C)C)[C@H](C3)O)CC4)C)(C(COC(C)=O)=O)OC(CCC)=O',\n",
            "       'Cn1cnc2N(C)C(=O)N(C)C(=O)c12', 'CC(C(C(OC(N)=O)C)C)OC(N)=O',\n",
            "       'C1=NC2=C([N]1COC(COC(C)C)COC(C)C)N=C(N)N=C2',\n",
            "       'C1=C(C(C)=O)C=CC(=C1C(NCC2N(CCC2)CC)=O)OC',\n",
            "       '[H+].C1=C(OCC(=O)NCCN(CC)CC)C=CC(=C1)OC.[Cl-]',\n",
            "       '[C@H]24[C@H]1[C@@]([C@](C(CO)=O)(O)CC1)(C[C@@H]([C@@H]2[C@@]3(C(=CC(=O)C=C3)[C@H](C4)F)C)O)C',\n",
            "       '[C@@]4([C@@]3([C@H]([C@H]2[C@@H]([C@@]1(C(=CC(=O)CC1)CC2)C)[C@H](C3)O)CC4)C)(C(COC(C)=O)=O)OC(CC)=O',\n",
            "       'CC(=O)OCC1=C(N2[C@H](SC1)[C@H](NC(=O)Cc3ccccc3)C2=O)C(O)=O',\n",
            "       'C(C)CCC(=O)OC3(CCC4C2CCC1=CC(=O)C=CC1(C)C2C(O)CC34C)C(=O)CO',\n",
            "       'CC1(C)S[C@@H]2[C@H](NC(=O)Cc3ccccc3)C(=O)N2[C@H]1C(O)=O',\n",
            "       '[C@@]45([C@@]3([C@H]([C@H]2[C@@H]([C@@]1(C(=CC(=O)C=C1)CC2)C)[C@H](C3)O)C[C@H]4OC(O5)CCC)C)C(CO)=O',\n",
            "       'Cn1cnc2N(C)C(=O)NC(=O)c12',\n",
            "       '[C@@]23(Cl)C(C1C([C@](O)(CC1)C(=O)CO)(CC2Cl)C)CCC4=CC(=O)C=CC34C',\n",
            "       'CCCC(C)C1(CC=C)C(=O)NC(=O)NC1=O',\n",
            "       '[C@@]4([C@@]3([C@H]([C@H]2[C@@H]([C@@]1(C(=CC(=O)C=C1)CC2)C)[C@H](C3)O)CC4)C)(C(COC(CC)=O)=O)OC(OCC)=O',\n",
            "       '[C@]12(C(=CC(C=C1)=O)[C@H](C[C@H]3[C@H]4[C@](C[C@@H]([C@H]23)O)([C@](C(=O)CO)(O)[C@@H](C4)C)C)F)C',\n",
            "       'NC(=O)OCC1[C@H](NC(=O)C(=N/OCC(O)=O)\\\\c2csc(N)n2)C(=O)N1[S](O)(=O)=O',\n",
            "       'C1=C([S](C)(=O)=O)C=CC(=C1C(NCCN(CC)CC)=O)OC',\n",
            "       'C1=NC2=C([N]1CCN(CC)CC)C(N(C)C(N2C)=O)=O',\n",
            "       '[C@H]12[C@@]([C@](C(CC)=O)(C)[C@@H](C1)C)(C[C@H](O)[C@H]3[C@H]2CCC4=CC(=O)C=C[C@]34C)C',\n",
            "       'C1=C([S](=O)(=O)N)C=CC(=C1C(NCC2N(CC)CCC2)=O)OC',\n",
            "       '[C@@]23(Cl)C(C1C([C@](O)([C@@H](C1)C)C(=O)CO)(CC2Cl)C)CCC4=CC(=O)C=CC34C',\n",
            "       '[C@]34([C@H]([C@H]2[C@@H]([C@@]1(C(=CC(=O)C=C1)[C@H](C2)F)C)[C@H](C3)O)C[C@H]([C@@]4(C(COC(C)=O)=O)O)C)C',\n",
            "       'COCOC(=O)C1N2C(SC1(C)C)C(N3C(=O)C(NC3(C)C)c4ccc(O)cc4)C2=O',\n",
            "       'CC(NC(C)(C)C)C(=O)c1cccc(Cl)c1',\n",
            "       'C4=C(N2C(C1=C(SCCS1)C2=O)OC(N3CCN(C(CC)=O)CC3)=O)N=C5C(=C4)C=CC(=N5)Cl',\n",
            "       'CC(C)NCC(O)COc1ccc(CC(N)=O)cc1',\n",
            "       'Nc1nc(Cl)nc2n(cnc12)[C@H]3C[C@H](O)[C@@H](CO)O3',\n",
            "       'CC(=O)C3(O)CCC4C2CCC1=CC(=O)C=CC1(C)C2C(O)CC34C',\n",
            "       'C1=CC(=CC=C1CNC(C(C)C)CCCCCC(O)=O)F', 'COc1ccccc1OCC(O)COC(N)=O',\n",
            "       'CC(C)NCC(O)COc1cccc2[nH]ccc12',\n",
            "       'C1=C(Cl)C=C(C(=C1C(NCCN(CC)CC)=O)OC)Cl',\n",
            "       'C1=NC3=C([N]1CCNC(C(C2=CC=CC=C2)O)C)C(N(C)C(N3C)=O)=O',\n",
            "       '[C@H]24[C@H]1[C@@]([C@](C(COC(C)=O)=O)(O)CC1)(C[C@@H]([C@@H]2[C@@]3(C(=CC(=O)C=C3)[C@H](C4)C)C)O)C',\n",
            "       '[H+].C1=C(CC(N(C)C)(CO)C)C=CC(=C1Cl)Cl.[Cl-]',\n",
            "       'C1=C(C=CC=C1C2(CCN(C)CC2)C(CC)=O)O',\n",
            "       'CO[C@H]1/C=C/O[C@@]2(C)Oc3c(C)c(O)c4c(O)c(NC(=O)C(=C\\\\C=C\\\\[C@H](C)[C@H](O)[C@@H](C)[C@@H](O)[C@@H](C)[C@H](OC(C)=O)[C@@H]1C)/C)cc(O)c4c3C2=O',\n",
            "       'CN(C)[C@H]1[C@@H]2C[C@H]3C(=C(O)c4c(O)ccc(Cl)c4[C@@]3(C)O)C(=O)[C@]2(O)C(=O)\\\\C(=C(N)/O)C1=O',\n",
            "       'CC1(C)N[C@@H](C(=O)N1[C@H]2[C@H]3SC(C)(C)[C@@H](N3C2=O)C(O)=O)c4ccccc4',\n",
            "       'c1(c(cc(NC(CCC)=O)cc1)C(C)=O)OCC(CNC(C)C)O',\n",
            "       'CNC(=NC#N)Nc1cccc(c1)c1csc(n1)N=C(N)N',\n",
            "       '[C@H]24[C@H]1[C@@]([C@](C(COC(CCC(O)=O)=O)=O)(O)CC1)(C[C@@H]([C@@H]2[C@@]3(C(=CC(=O)C=C3)[C@H](C4)C)C)O)C',\n",
            "       'c1(ccc(cc1)C(F)(F)F)CC(N1[C@@H](CCCC1)CN1CCCC1)=O',\n",
            "       '[C@H](C(=O)OC1=CC=C(C=C1)NC(=O)C)(NC(=O)C)CCSC',\n",
            "       'CCNCc1c(O)c(C)ncc1CSC',\n",
            "       'N[S](=O)(=O)c1cc2c(NC(N[S]2(=O)=O)C(Cl)Cl)cc1Cl',\n",
            "       'NC(N)=Nc1scc(CSCCC(N)=N[S](N)(=O)=O)n1',\n",
            "       '[C@]23([C@H]([C@H]1[C@]([C@@](OC(C)=O)(C(C)=O)CC1)(C)C[C@@H]2O)C[C@H](C)C4=CC(=O)C=C[C@]34C)F',\n",
            "       '[C@]4([C@@]3([C@H]([C@H]2[C@]([C@@]1(C(=CC(=O)C=C1)CC2)C)(F)C(C3)=O)C[C@@H]4C)C)(OC(CCC)=O)C(CCl)=O',\n",
            "       'CC1(C)S[C@@H]2[C@H](NC(=O)COc3ccccc3)C(=O)N2[C@H]1C([O-])=O',\n",
            "       'CC1(C)S[C@@H]2[C@H](N=CN3CCCCCC3)C(=O)N2[C@H]1C(O)=O',\n",
            "       'O=C(C)Nc1cc(c2csc(N=C(N)N)n2)ccc1',\n",
            "       'CN1C(CCl)Nc2cc(Cl)c(cc2[S]1(=O)=O)[S](N)(=O)=O',\n",
            "       'CC1CC2C3CC(F)(F)C4=CC(=O)C=C[C@]4(C)C3(F)C(O)CC2(C)C1(O)C(=O)CO',\n",
            "       '[Cl-].CC(=O)[C@@]1(N)C[C@H](O[C@H]2C[C@H](O)[C@H](O)CO2)c3c(O)c4C(=O)c5ccccc5C(=O)c4c(O)c3C1.[H+]',\n",
            "       'C1=C(NC(C(Cl)(Cl)Cl)=O)C=CC(=C1)O', 'OC(=O)c1ccccc1O',\n",
            "       'N[S](=O)(=O)c1cc2c(NCN[S]2(=O)=O)cc1C(F)(F)F',\n",
            "       'CC[C@]1(O)C[C@H]2CN(CCc3c([nH]c4ccccc34)[C@@](C2)(C(=O)OC)c5cc6c(cc5OC)N(C=O)[C@H]7[C@](O)([C@H](OC(C)=O)[C@]8(CC)C=CCN9CC[C@]67[C@H]89)C(=O)OC)C1',\n",
            "       'CN1C(=O)c2c(cccc2Cl)n2cnc(c2C1)c1noc(n1)C(C)C',\n",
            "       'c1ccc(cc1)c1csc(n1)N=C(N)N',\n",
            "       '[C@]14([C@@](C(=O)COC(CCC(=O)[O-])=O)(CC[C@H]1[C@@H]3CCC2=CC(C=C[C@@]2([C@H]3[C@H](C4)O)C)=O)O)C.[Na+]',\n",
            "       '[C@H]13[C@@H]([C@@]2([C@@H](CC1)C[C@](O)(CC2)C)C)CC[C@]4([C@H]3CC[C@@H]4C(=O)C)C',\n",
            "       'CCC#CC(C)C1(CC=C)C(=O)NC(=O)N(C)C1=O',\n",
            "       'c12c3c(N4CCN(C)CC4)c(F)cc1c(c(C(O)=O)cn2C(C)CO3)=O',\n",
            "       'C1=C(OC)C(=CC2=C1C(=[N+](C(=C2CC)C)[NH-])C3=CC=C(C(=C3)OC)OC)OC',\n",
            "       'c1(ccc(c(c1)Cl)Cl)CC(N1[C@@H](CN2CCCC2)CC(CC1)(C)C)=O',\n",
            "       '[C@@]23(Cl)C1(C(=CC(=O)C=C1)[C@@H](F)CC2C5C(CC3Cl)([C@]4(C(=O)CO)OC(O[C@@H]4C5)(C)C)C)C',\n",
            "       '[C@@]45([C@@]3([C@H]([C@H]2[C@@H]([C@@]1(C(=CC(=O)CC1)[C@H](C2)F)C)[C@H](C3)O)C[C@H]4OC(O5)(C)C)C)C(CO)=O',\n",
            "       'C[C@]12C[C@H](O)[C@H]3[C@@H](CCC4=CC(=O)C=C[C@]34C)[C@@H]1CC[C@]2(O)C(=O)CO',\n",
            "       'CC(=O)OCOC(=O)C1N2C(SC1(C)C)C(NC(=O)Cc3ccccc3)C2=O',\n",
            "       'n1c(scc1c1ccccc1)CCN', 'Cc1csc(n1)N=C(N)N',\n",
            "       'OC12c3c(Oc4c(C)cccc4C2CNCC1)cccc3',\n",
            "       '[Na+].Cn1nnnc1SCC2=C(N3[C@H](SC2)[C@H](NC(=O)CSC(F)(F)F)C3=O)C([O-])=O',\n",
            "       'ClCCN(N=O)C(=O)NC1CCCCC1',\n",
            "       '[C@H]3([N]2C1=C(C(=NC=N1)N)N=C2)[C@@H]([C@@H]([C@H](O3)C[S+](CC[C@@H](C([O-])=O)N)C)O)O',\n",
            "       '[C@]2(OC1=C(C(=C(C(=C1CC2)C)O)C)C)(CCC[C@@H](CCC[C@@H](CCCC(C)C)C)C)C',\n",
            "       '[C@H]23[C@@]([C@@]1(C(=CC(=O)CC1)CC2)C)([C@H](C[C@]4([C@H]3CC[C@@]4(C(CO)=O)O)C)O)F',\n",
            "       'CC1(C)S[C@@H]2[C@H](NC(=O)C(C)(C)Oc3ccccc3)C(=O)N2[C@H]1C(O)=O',\n",
            "       'CCC(Oc1ccccc1)C(=O)NC2C3SC(C)(C)C(N3C2=O)C(O)=O',\n",
            "       '[C@@]4([C@@]3([C@H]([C@H]2[C@@H]([C@@]1(C(=CC(=O)C=C1)C[C@H]2Cl)C)[C@H](C3)O)C[C@H]4C)C)(C(COC(CC)=O)=O)OC(CC)=O',\n",
            "       'C1=C([S](N(C)C)(=O)=O)C=CC3=C1N(C2=C(C=CC=C2)S3)CCCN4CCC(CCO)CC4',\n",
            "       '[C@]34([C@H]([C@H]2[C@@H]([C@@]1(C(=CC(=O)CC1)CC2)C)[C@@H](O)C3)CC[C@]4(O)C(=O)COC(=O)CCC(O)=O)C.O',\n",
            "       'CN1CCCCC1CCN2c3ccccc3Sc4ccc(cc24)[S](C)=O',\n",
            "       'CC1=C(CCN2CCC(CC2)c3noc4cc(F)ccc34)C(=O)N5CCCCC5=N1',\n",
            "       'C1=C4C(=C2C(=C1)SC=C2C)C3=C(CCN(C3)C)[NH]4',\n",
            "       'C(C(C4(C3(C(C2C(C1(C(=CC(=O)C=C1)CC2)C)C(C3)O)CC4)C)O)=O)OC(CN(CC)CC)=O',\n",
            "       'CC1(C)SC2C(NC(=O)C(N=C)c3ccccc3)C(=O)N2C1C(O)=O',\n",
            "       'CC(Oc1ccccc1)C(=O)NC2C3SC(C)(C)C(N3C2=O)C(O)=O',\n",
            "       'C1=C([S](N)(=O)=O)C=CC(=C1C(NCC2N(CCC2)CCC)=O)OC',\n",
            "       '[C@H]23[C@@]([C@@]1(C(=CC(C(=C1)Cl)=O)[C@H](C2)F)C)([C@H](C[C@]4(C3C[C@H]([C@@]4(C(CO)=O)O)C)C)O)F',\n",
            "       '[C@@]24(Cl)C1(C(=CC(=O)C=C1)[C@@H](F)CC2C3C(C([C@@H](C3)C)C(=O)CO)(CC4O)C)C',\n",
            "       'CC\\\\C(=C/C)C(=O)NC(N)=O',\n",
            "       'c1cc2c(C(N[C@@H](CC)c3ccccc3)=O)c(c(nc2cc1)c1ccccc1)OCC(O)=O',\n",
            "       'c1(CC(N2[C@H](CN(CC2)C(=O)C)C[N@]2CC[C@H](C2)O)=O)ccc(C(F)(F)F)cc1',\n",
            "       '[N+](=NCC(=O)N[C@@H]([C@H](O)C1=CC=C([N+]([O-])=O)C=C1)CO)=[N-]',\n",
            "       'c1(CC(N2[C@H](CN(CC2)C(=O)C)C[N@]2CC[C@H](C2)O)=O)cc(cc(c1)F)F',\n",
            "       'CN(C)C1C2CC3C(=C(O)c4c(O)cccc4C3(C)O)C(=O)C2(O)C(=O)\\\\C(=C(/O)NCN5CCN(CCO)CC5)C1=O',\n",
            "       'c1(CC(N2[C@H](CN(CC2)C(=O)C)C[N@]2CC[C@H](O)C2)=O)cc(ccc1)N(=O)=O',\n",
            "       'C1=C(C(=C(C=C1\\\\C=C\\\\C(N)=O)OC)OC)OC',\n",
            "       'c1(CC(N2[C@H](CN(CC2)C(=O)C)C[N@]2CC[C@H](O)C2)=O)ccc(N(=O)=O)cc1',\n",
            "       'c1(CC(N2[C@H](CN(CC2)C(=O)C)C[N@]2CC[C@H](C2)O)=O)ccc(OC)cc1',\n",
            "       'C1=CC(=CC=C1\\\\C(C2=CC=CN=C2)=C\\\\CNC)Br',\n",
            "       'c1(cc(c(cc1)Cl)Cl)CC(N1CCCC[C@H]1CN1CCCC1)=O',\n",
            "       'c1(ccc(c(c1)Cl)Cl)CC(=O)N1[C@H](CN(C(=O)C)CC1)C[N@@]1C[C@H](O)CC1',\n",
            "       'c1(ccc(c(c1)Cl)Cl)CC(N1[C@@H](C[N@@]2C[C@@H](CC2)O)C[N@](CC1)CCO)=O',\n",
            "       'C2=C(C1(C(N(CC(COCCCC)OC(N)=O)C(=O)NC1=O)=O)CC)C=CC=C2',\n",
            "       'CC1CN(CCN1)c2cc3N(C=C(C(O)=O)C(=O)c3c(C)c2F)C4CC4',\n",
            "       'CN1C2CCC1CC(C2)OC(=O)C(O)c3ccccc3',\n",
            "       'OC(=O)C1=CN(C2CC2)c3cc(N4CCNCC4)c(F)cc3C1=O',\n",
            "       'C1=C(C(=CC(=C1[S](NC)(=O)=O)N)OC)C(NCC2N(CCC2)CC=C)=O',\n",
            "       'C[C@H]1CN(C[C@@H](C)N1)c2c(F)c(N)c3C(=O)C(=CN(C4CC4)c3c2F)C(O)=O',\n",
            "       'C(C(NC(C)=O)C(O)=O)CC(N)=O',\n",
            "       'c1cc2c(C(N[C@@H](CC)c3ccccc3)=O)c(c(nc2cc1)c1ccccc1)OCCCN(C)C',\n",
            "       'c1(cc(c(cc1)Cl)Cl)CC(N1[C@@H](CN2CCCC2)CN(CC1)C(=O)C)=O',\n",
            "       'c1(ccc(c(c1)Cl)Cl)CC(N1[C@H](CN(CC1)C(=O)OC)CN1CCCC1)=O',\n",
            "       'C(C(CCCC)CC)NC(CC(C)O)=O', 'C1=CC(=CC=C1OC(CN(CC)CC)=O)NC(C)=O',\n",
            "       'C1=CC(=CC2=C1N(C(=O)N2)CCCN4CCC(C(C3=CC=C(F)C=C3)=O)CC4)Cl',\n",
            "       'C1=C(Br)C=CC3=C1C2(N(CCO2)CC(=O)N3)C4=C(C=CC=C4)F',\n",
            "       'C1=C(Cl)C=CC2=C1C3(N(CC(=O)N2CCO)CCO3)C4=CC=CC=C4F',\n",
            "       'CCN1C=C(C(O)=O)C(=O)c2cc(F)c(cc12)N3CCNCC3',\n",
            "       'C1=C(Cl)C=CC3=C1C2(N(C(C)CO2)CC(=O)N3)C4=CC=CC=C4Cl',\n",
            "       'OC1(CCN(CCCC(=O)c2ccc(F)cc2)CC1)c3ccc(Br)cc3',\n",
            "       'CN1C(CSCC(F)(F)F)Nc2cc(Cl)c(cc2[S]1(=O)=O)[S](N)(=O)=O',\n",
            "       'CCN1C=C(C(O)=O)C(=O)c2cc(F)c(N3CCNC(C)C3)c(F)c12',\n",
            "       'C1=C(Cl)C=CC2=C1C(=NC(O)C(N2CCO)=O)C3=CC=CC=C3F',\n",
            "       'C3=C(C1=C([N]2C(=N1)C=CC(=C2)Cl)CC(N(CCC)CCC)=O)C=CC(=C3)Cl',\n",
            "       'NC(N)=NC(=O)c1nc(Cl)c(N)nc1N',\n",
            "       'C1=C(Cl)C=CC2=C1C(=NCC(N2CC(CO)O)=O)C3=CC=CC=C3F',\n",
            "       '[C@H]12[C@@]([C@](C(CO)=O)(O)[C@H](C1)C)(CC(=O)[C@H]3[C@H]2CCC4=CC(=O)C=C[C@]34C)C',\n",
            "       'C1=CC=C(C2=C1[NH]C=C2CCN(C)C)O[P](O)(O)=O',\n",
            "       'Cc1ncc2C(O)N=C(c3ccccc3F)c4cc(Cl)ccc4n12',\n",
            "       'CN1CCN(CC1)c2c(F)cc3C(=O)C(=CN(CCF)c3c2F)C(O)=O',\n",
            "       'Cc1onc(c2ccccc2)c1C(=O)N[C@H]3[C@H]4SC(C)(C)[C@@H](N4C3=O)C(O)=O',\n",
            "       'Cc1onc(c1C(=O)N[C@H]2[C@H]3SC(C)(C)[C@@H](N3C2=O)C(O)=O)c4c(F)cccc4Cl',\n",
            "       'OC1N=C(c2ccccc2)c3cc(Cl)ccc3NC1=O',\n",
            "       'CCC[C@@H]1C[C@H](N(C)C1)C(=O)NC(C(C)Cl)[C@H]2O[C@H](SC)[C@H](O)[C@@H](O)[C@H]2O',\n",
            "       'C(OC1=NSN=C1C2=CCCN(C2)C)CCCCC',\n",
            "       '[C@H]34[C@H]2[C@@](Cl)([C@@]1(C(=CC(=O)C=C1)CC2)C)[C@@H](O)C[C@@]3([C@](O)([C@@H](C4)C)C(=O)CCl)C',\n",
            "       '[C@]23([C@H]([C@H]1[C@]([C@](C(CO)=O)(O)[C@H](C1)C)(C)C[C@@H]2O)CCC4=CC(=O)C=C[C@]34C)Cl',\n",
            "       'C1=C(Cl)C=CC2=C1C(=NC(O)C(N2CCC#N)=O)C3=CC=CC=C3F',\n",
            "       'CN1C(=O)C(O)N=C(c2ccccc2)c3cc(Cl)ccc13',\n",
            "       '[C@]14([C@@]([C@@H](C)C[C@H]1[C@H]3[C@]([C@@]2(C(=CC(=O)C=C2)CC3)C)(F)[C@H](C4)O)(OC(CCCC)=O)C(CO)=O)C',\n",
            "       'C1=C(Cl)C=CC3=C1C2(OCCN2CC(=O)N3)C4=C(Cl)C=CC=C4',\n",
            "       'C1=CC(=C3C2=C1CC5C4C2(C(O3)C(O)C=C4)CCN5)O',\n",
            "       'CC14C5(C(CC1C3C(C2(C(=CC(=O)CC2)CC3)C)CC4)OC(O5)(C)C)C(C)=O',\n",
            "       'C1=CC=CC2=C1N(C(=O)N2)CCCN4CCC(C(C3=CC=C(F)C=C3)=O)CC4',\n",
            "       'CC(C)(C)C(=O)OCOC(=O)[C@@H]1N2[C@H](SC1(C)C)[C@H](NC(=O)[C@H](N)c3ccccc3)C2=O',\n",
            "       'C1=CC=CC3=C1C(=NC2=CC=CC=C2S3)N4CCN(CCOCCO)CC4',\n",
            "       'C1=C(C)C=CC3=C1C(=NC2=C(C=CC=C2)S3)N4CCN(C)CC4',\n",
            "       'OCCOCCN1CCN(CC1)C(c2ccccc2)c3ccc(Cl)cc3',\n",
            "       'C1=C(C(F)(F)F)C=CC3=C1C(C2=C(C=C(F)C=C2)S3)CCCN4CCN(CCO)CC4',\n",
            "       'c1cn(CCCO)c(C)c(O)c1=O', 'c1cn(CCO)c(CC)c(O)c1=O',\n",
            "       'C1=C(C=CC2=C1C=CC=C2)CC([NH2+]C)=NC.[Cl-]', 'CN1C=CC(=O)C(=C1C)O',\n",
            "       'CCCCN1C=CC(=O)C(=C1C)O', 'NC1=NC(=O)C(O1)c2ccccc2',\n",
            "       'c1(ccc(c(c1)Cl)Cl)CC(N1[C@H](CN(CC1)C(=O)OCC)CN1CCCC1)=O',\n",
            "       'C1=CC=CC=C1C2OC(=NC2=O)N(C)C',\n",
            "       '[H+].C2=C1OCC(OC1=C(C=C2)OCC)CNCCCC.[Cl-]',\n",
            "       'CCN1C=CC(=O)C(=C1CC)O', 'NCC1(CCCCC1)CC(O)=O',\n",
            "       'C(C(N(C(\\\\C=C\\\\C)=O)CCC)C(N(C)C)=O)C', 'CC(C)CCNCC2COc1ccccc1O2',\n",
            "       'CNC(C)C1CCC(N)C(O1)OC2C(N)CC(N)C(OC3OCC(C)(O)C(NC)C3O)C2O',\n",
            "       'CC(C)(C)C(=O)OCOC(=O)C1N2[C@H](SC1(C)C)[C@H](N=CN3CCCCCC3)C2=O',\n",
            "       'CN[C@@H](C)Cc1ccccc1', '[C@@H](CC1=CC=CC=C1)(N(CC#C)C)C',\n",
            "       'C1=CC=C2C(=C1)C3C4=C(C2(CNC)CC3)C=CC=C4', 'CN(C(C)CC1=CC=CC=C1)C',\n",
            "       'c1cn(CCCCO)c(CC)c(O)c1=O', 'CN(C)C(=O)COC2c1ccccc1CCc3ccccc23',\n",
            "       'N[S](=O)(=O)c1cc2c(NCN[S]2(=O)=O)cc1Cl',\n",
            "       '[H+].C2=C(CC1=CC=CC=C1)C(=CC=C2)OCCCCNC.[Cl-]',\n",
            "       'CNCC(O)c1ccc(OC(=O)C(C)(C)C)c(OC(=O)C(C)(C)C)c1',\n",
            "       'C1=C(OCC(NN)C)C=CC=C1', 'C1=CC(=CC=C1OCC(COC(N)=O)O)Cl',\n",
            "       'CCC(=C)C(=O)c1ccc(OCC(O)=O)c(Cl)c1Cl',\n",
            "       'C1=CC=CC3=C1C(C2=CC=CC=C2CC3)CC(CN(C)C)C',\n",
            "       '[C@@H](N)(C(OCCOC[N]1C2=C(N=C1)C(=O)N=C(N2)N)=O)C(C)C',\n",
            "       '[C@@H](CC[N]2C1=C(C(N=C(N1)N)=O)N=C2)(CO)O',\n",
            "       '[C@@H](N)(C(OCC(OC[N]1C2=C(N=C1)C(=O)N=C(N2)N)CO)=O)C(C)C',\n",
            "       'CC(Cc1ccccc1)NO', 'C1=C(C=CC=C1C(CNC(CCCO)=O)(CC)CC)OC',\n",
            "       'C1=CC=CC=C1CC(NN)C', 'NC1=NC(=O)c2ncn(COC(CO)CO)c2N1',\n",
            "       '[C@H]15C3=C(CCC2=C1C=CC=C2)C=CC=C3[C@H]4C[C@](C(C)C)(O)CCN4C5',\n",
            "       'C1=CC(=C3C2=C1CC5C4C2(C(O3)CCC4)CCN5C)O',\n",
            "       'C1=CC(=CC=C1C3(CCN(CCCC(C2=CC=C(C=C2)F)=O)CC3)OC(CCCCCCCCC)=O)Br',\n",
            "       'NC1=NC(=O)c2ncn(COCCO)c2N1', 'C1=CC=NC=C1C(N(CC)CC)=O',\n",
            "       'CC1=CN([C@H]2C[C@H](N=[N+]=[N-])[C@@H](CO)O2)C(=O)NC1=O',\n",
            "       'CN=C(NCCSCc1nc[nH]c1C)NC#N',\n",
            "       'CC1=CN([C@H]2C[C@H](F)[C@@H](CO)O2)C(=O)NC1=O',\n",
            "       'CN(C)C/C=C(/c1ccc(Br)cc1)c2cccnc2',\n",
            "       'CCCCNC(=O)N[S](=O)(=O)c1ccc(C)cc1',\n",
            "       'CCCNC(=O)N[S](=O)(=O)c1ccc(Cl)cc1',\n",
            "       'CCOC(=O)c1cnc2n(CC)ncc2c1NN=C(C)C',\n",
            "       'CCCCNc1c(cnc2n(CC)ncc12)C(=O)OCC', 'C1=CC=CC=C1CC(NC(N)=O)=O',\n",
            "       'OCCOC(=O)NCc1ccccc1',\n",
            "       'C1=C(Cl)C=CC2=C1C(=NCCN2CC(F)(F)F)C3=CC=CC=C3F',\n",
            "       'C1=CC=CC=C1C2C(N=C(O2)NCC)=O', 'CN1C(=O)N(C)c2nc[nH]c2C1=O',\n",
            "       'CCC(C)(O)C#C'], dtype=object), array([0, 1, 1, 0, 1, 1, 1, 1, 0, 0, 1, 0, 1, 1, 1, 1, 1, 1, 0, 0, 1, 1,\n",
            "       1, 0, 0, 1, 1, 1, 1, 1, 0, 0, 0, 0, 0, 1, 1, 1, 0, 1, 1, 1, 0, 1,\n",
            "       1, 1, 1, 0, 0, 0, 0, 0, 0, 1, 0, 0, 0, 1, 1, 1, 0, 1, 0, 1, 0, 0,\n",
            "       1, 0, 0, 0, 1, 1, 0, 1, 0, 0, 1, 0, 0, 0, 0, 1, 1, 1, 0, 1, 1, 0,\n",
            "       0, 0, 1, 0, 0, 0, 0, 0, 1, 0, 1, 1, 0, 1, 0, 0, 1, 1, 1, 1, 1, 1,\n",
            "       1, 1, 1, 0, 0, 1, 1, 0, 0, 1, 0, 0, 0, 0, 1, 1, 1, 0, 1, 0, 1, 0,\n",
            "       1, 0, 1, 0, 1, 0, 1, 1, 1, 1, 1, 0, 1, 1, 1, 1, 0, 1, 1, 1, 1, 0,\n",
            "       0, 0, 0, 1, 1, 1, 1, 1, 1, 0, 0, 0, 1, 1, 1, 0, 1, 0, 1, 0, 0, 1,\n",
            "       1, 1, 1, 1, 1, 1, 1, 1, 1, 0, 0, 0, 1, 0, 1, 1, 0, 1, 0, 1, 0, 1,\n",
            "       0, 0, 0, 1, 1, 0, 1, 1, 0, 0, 1, 0, 1, 1, 1, 1, 1, 0, 0, 1, 0, 1,\n",
            "       0, 0, 1, 0, 1, 1, 1, 1, 1, 1, 0, 1, 0, 1, 1, 1, 1, 0, 0, 1, 1, 1,\n",
            "       0, 0, 1, 1, 0, 0, 1, 1, 1, 1, 0, 0, 1, 0, 1, 0, 1, 0, 1, 1, 1, 0,\n",
            "       1, 0, 1, 1, 0, 0, 0, 0, 1, 1, 1, 0, 0, 1, 1, 1, 1, 1, 1, 0, 0, 0,\n",
            "       1, 1, 0, 1, 1, 0, 1, 1, 1, 1, 0, 1, 1, 0, 1, 1, 1, 0, 0, 0, 1, 1,\n",
            "       0, 1, 1, 0, 1, 1, 1, 1, 0, 0, 0, 0, 1, 1, 1, 0, 1, 1, 0, 0, 1, 1,\n",
            "       1, 0, 1, 0, 1, 1, 1, 1, 1, 1, 1, 1, 1, 0, 0, 1, 1, 0, 0, 0, 1, 1,\n",
            "       1, 1, 0, 0, 0]))\n"
          ]
        }
      ]
    }
  ],
  "metadata": {
    "colab": {
      "provenance": []
    },
    "kernelspec": {
      "display_name": "Python 3",
      "name": "python3"
    },
    "language_info": {
      "name": "python"
    }
  },
  "nbformat": 4,
  "nbformat_minor": 0
}